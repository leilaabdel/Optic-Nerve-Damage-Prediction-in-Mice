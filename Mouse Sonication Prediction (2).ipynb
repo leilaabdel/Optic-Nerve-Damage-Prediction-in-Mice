{
 "cells": [
  {
   "cell_type": "markdown",
   "metadata": {},
   "source": [
    "# Predicting Optic Nerve Damage Condition Based on Lipidomes\n",
    "\n",
    "\n",
    "<img src=\"http://www.medifee.com/blog/wp-content/uploads/2015/03/glaucoma-low-tension.png\" style=\"height:250px\">"
   ]
  },
  {
   "cell_type": "markdown",
   "metadata": {},
   "source": [
    "## Import the necessary libraries"
   ]
  },
  {
   "cell_type": "code",
   "execution_count": 197,
   "metadata": {},
   "outputs": [],
   "source": [
    "from __future__ import absolute_import, division, print_function, unicode_literals\n",
    "import numpy as np\n",
    "import pandas as pd\n",
    "import scipy\n",
    "import sklearn\n",
    "from sklearn.preprocessing import StandardScaler\n",
    "\n",
    "import tensorflow as tf\n",
    "\n",
    "from tensorflow.keras import layers\n",
    "from tensorflow.keras.models import Sequential\n",
    "from tensorflow.keras.layers import Dense, Activation\n",
    "\n",
    "from sklearn.preprocessing import OneHotEncoder    \n",
    "from sklearn.metrics import accuracy_score\n",
    "from tensorflow.python.client import device_lib\n",
    "\n"
   ]
  },
  {
   "cell_type": "markdown",
   "metadata": {},
   "source": [
    "## Import the data and transpose\n",
    "\n",
    "Data were retrieved from [Metabolomics Workbench](\"https://www.metabolomicsworkbench.org/data/DRCCMetadata.php?Mode=Project&ProjectID=PR000859\")\n",
    "\n",
    "- The concentrations of the lipids for control and 14 days after sonication to damage the optic nerve. \n",
    "- N= 7/8 mice were used and matched to each condition\n"
   ]
  },
  {
   "cell_type": "code",
   "execution_count": 198,
   "metadata": {},
   "outputs": [],
   "source": [
    "\n",
    "df = pd.read_csv(\"C:\\\\Users\\coder\\Documents\\Mouse Gender\\Mouse Lipid Gender for Training Combined Ion Modes 2 Conditions.csv\")"
   ]
  },
  {
   "cell_type": "markdown",
   "metadata": {},
   "source": [
    "## Transform the categorial variables into digits and seperate the target from data frame "
   ]
  },
  {
   "cell_type": "code",
   "execution_count": 199,
   "metadata": {},
   "outputs": [],
   "source": [
    "#Save the data frame and pop the target into a seperate array\n",
    "\n",
    "df.dtypes \n",
    "df = df.fillna(0)\n",
    "df['Condition'] = pd.Categorical(df['Condition'])\n",
    "df['Condition'] = df.Condition.cat.codes\n",
    "df['Sex'] = pd.Categorical(df['Sex'])\n",
    "df['Sex'] = df.Sex.cat.codes\n",
    "target = df.pop('Condition')\n",
    "\n",
    "\n",
    "\n",
    "\n",
    "\n",
    "X = df.iloc[:,0:len(df.columns)].values\n"
   ]
  },
  {
   "cell_type": "markdown",
   "metadata": {},
   "source": [
    "## Normalize the data "
   ]
  },
  {
   "cell_type": "code",
   "execution_count": 200,
   "metadata": {},
   "outputs": [],
   "source": [
    "#Normalizing the data\n",
    "\n",
    "sc = StandardScaler()\n",
    "X = sc.fit_transform(X)\n"
   ]
  },
  {
   "cell_type": "markdown",
   "metadata": {},
   "source": [
    "## Use SVM-RFE to select the top k Features\n"
   ]
  },
  {
   "cell_type": "code",
   "execution_count": 201,
   "metadata": {},
   "outputs": [],
   "source": [
    "from sklearn.svm import LinearSVC\n",
    "from sklearn.feature_selection import RFE\n",
    "from sklearn.feature_selection import RFECV\n",
    "from sklearn.model_selection import StratifiedKFold\n",
    "\n",
    "svm = LinearSVC()\n",
    "\n",
    "\n",
    "rfecv = RFECV(estimator=svm, step=1, cv=StratifiedKFold(2),\n",
    "              scoring='accuracy')\n",
    "rfecv = rfecv.fit(X, target)\n",
    "\n",
    "X_select_features = rfecv.transform(X)\n",
    "\n",
    "\n",
    "\n"
   ]
  },
  {
   "cell_type": "code",
   "execution_count": 202,
   "metadata": {},
   "outputs": [
    {
     "data": {
      "image/png": "[encoded data removed]",
      "text/plain": [
       "<Figure size 432x288 with 1 Axes>"
      ]
     },
     "metadata": {
      "needs_background": "light"
     },
     "output_type": "display_data"
    }
   ],
   "source": [
    "import matplotlib.pyplot as plt\n",
    "\n",
    "plt.figure()\n",
    "plt.xlabel(\"Number of features selected\")\n",
    "plt.ylabel(\"Cross validation score (nb of correct classifications)\")\n",
    "plt.plot(range(1, len(rfecv.grid_scores_) + 1), rfecv.grid_scores_)\n",
    "plt.show()\n"
   ]
  },
  {
   "cell_type": "code",
   "execution_count": 203,
   "metadata": {},
   "outputs": [
    {
     "name": "stdout",
     "output_type": "stream",
     "text": [
      "Number of features for optimal SVM classification: 11\n",
      "Accuracy of classification for 11 features: 0.8125\n"
     ]
    }
   ],
   "source": [
    "print(\"Number of features for optimal SVM classification: \" +  str(rfecv.n_features_))\n",
    "print(\"Accuracy of classification for \" + str(rfecv.n_features_) + \" features: \" + str(rfecv.grid_scores_[rfecv.n_features_ - 1]))"
   ]
  },
  {
   "cell_type": "code",
   "execution_count": null,
   "metadata": {},
   "outputs": [],
   "source": []
  },
  {
   "cell_type": "code",
   "execution_count": null,
   "metadata": {},
   "outputs": [],
   "source": []
  },
  {
   "cell_type": "code",
   "execution_count": null,
   "metadata": {},
   "outputs": [],
   "source": []
  }
 ],
 "metadata": {
  "kernelspec": {
   "display_name": "TensorFlow",
   "language": "python",
   "name": "tensorflow"
  },
  "language_info": {
   "codemirror_mode": {
    "name": "ipython",
    "version": 3
   },
   "file_extension": ".py",
   "mimetype": "text/x-python",
   "name": "python",
   "nbconvert_exporter": "python",
   "pygments_lexer": "ipython3",
   "version": "3.7.5"
  }
 },
 "nbformat": 4,
 "nbformat_minor": 2
}
